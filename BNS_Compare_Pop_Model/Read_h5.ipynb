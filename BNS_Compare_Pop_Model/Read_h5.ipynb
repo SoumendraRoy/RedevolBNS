{
 "cells": [
  {
   "cell_type": "code",
   "execution_count": 1,
   "id": "465d0ff1-3c9c-4940-bf02-09fb38e35e8f",
   "metadata": {},
   "outputs": [],
   "source": [
    "import numpy as np\n",
    "import matplotlib.pyplot as plt\n",
    "import h5py"
   ]
  },
  {
   "cell_type": "code",
   "execution_count": 10,
   "id": "4a8db085-4684-4f40-b11f-d1c7eb833135",
   "metadata": {},
   "outputs": [
    {
     "name": "stdout",
     "output_type": "stream",
     "text": [
      "['N1e7_Fiducial_AllDCO_AIS', 'N1e7_CEa025_AllDCO_AIS', 'N1e7_CEa05_AllDCO_AIS', 'N1e7_CEa075_AllDCO_AIS', 'N1e7_CEa2_AllDCO_AIS', 'N1e7_CEa5_AllDCO_AIS', 'N1e7_FRYER2022_AllDCO_AIS', 'N1e7_MullerMandel_AllDCO_AIS', 'N1e7_zetaHG5_AllDCO_AIS', 'N1e7_zetaHG5d5_AllDCO_AIS', 'N1e7_zetaHG6_AllDCO_AIS', 'N1e7_beta025_AllDCO_AIS', 'N1e7_beta05_AllDCO_AIS', 'N1e7_beta075_AllDCO_AIS', 'N1e7_beta1_AllDCO_AIS', 'N1e7_ECSN10_AllDCO_AIS', 'N1e7_ECSN200_AllDCO_AIS']\n"
     ]
    }
   ],
   "source": [
    "variant = ['N1e7_Fiducial_AllDCO_AIS', 'N1e7_CEa025_AllDCO_AIS', 'N1e7_CEa05_AllDCO_AIS', 'N1e7_CEa075_AllDCO_AIS', 'N1e7_CEa2_AllDCO_AIS', 'N1e7_CEa5_AllDCO_AIS', 'N1e7_FRYER2022_AllDCO_AIS', 'N1e7_MullerMandel_AllDCO_AIS', 'N1e7_zetaHG5_AllDCO_AIS', 'N1e7_zetaHG5d5_AllDCO_AIS', 'N1e7_zetaHG6_AllDCO_AIS', 'N1e7_beta025_AllDCO_AIS', 'N1e7_beta05_AllDCO_AIS', 'N1e7_beta075_AllDCO_AIS', 'N1e7_beta1_AllDCO_AIS', 'N1e7_ECSN10_AllDCO_AIS', 'N1e7_ECSN200_AllDCO_AIS']\n",
    "print(variant)"
   ]
  },
  {
   "cell_type": "code",
   "execution_count": 35,
   "id": "69916d87-f746-4230-8ac8-ddaa695c4ba7",
   "metadata": {},
   "outputs": [
    {
     "name": "stdout",
     "output_type": "stream",
     "text": [
      "N1e7_Fiducial_AllDCO_AIS\n"
     ]
    }
   ],
   "source": [
    "i = 0\n",
    "print(variant[i])"
   ]
  },
  {
   "cell_type": "code",
   "execution_count": 36,
   "id": "831ca61f-d294-46be-8538-c989ff9c53b6",
   "metadata": {},
   "outputs": [],
   "source": [
    "with h5py.File('gmm.h5', 'r') as file:\n",
    "    nc = np.array(file['nc_'+variant[i]+'_all'])\n",
    "    mean = np.array(file['mean_'+variant[i]+'_all'])\n",
    "    cov = np.array(file['cov_'+variant[i]+'_all'])\n",
    "    weight = np.array(file['weight_'+variant[i]+'_all'])\n",
    "file.close()"
   ]
  },
  {
   "cell_type": "code",
   "execution_count": 37,
   "id": "4c3ea262-8f8e-41b5-aaa1-8e7bec2168f8",
   "metadata": {},
   "outputs": [
    {
     "data": {
      "text/plain": [
       "((18, 3), (18, 3, 3), (18,))"
      ]
     },
     "execution_count": 37,
     "metadata": {},
     "output_type": "execute_result"
    }
   ],
   "source": [
    "mean.shape, cov.shape, weight.shape"
   ]
  },
  {
   "cell_type": "code",
   "execution_count": null,
   "id": "567c5965-13c0-4569-a2e9-b429ab0736e2",
   "metadata": {},
   "outputs": [],
   "source": []
  }
 ],
 "metadata": {
  "kernelspec": {
   "display_name": "popcosmo",
   "language": "python",
   "name": "popcosmo"
  },
  "language_info": {
   "codemirror_mode": {
    "name": "ipython",
    "version": 3
   },
   "file_extension": ".py",
   "mimetype": "text/x-python",
   "name": "python",
   "nbconvert_exporter": "python",
   "pygments_lexer": "ipython3",
   "version": "3.10.14"
  }
 },
 "nbformat": 4,
 "nbformat_minor": 5
}
