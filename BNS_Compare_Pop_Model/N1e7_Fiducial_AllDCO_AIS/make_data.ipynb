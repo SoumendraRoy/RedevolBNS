{
 "cells": [
  {
   "cell_type": "code",
   "execution_count": 1,
   "id": "e279a061-9bde-4ca5-b19f-a2afff7fa435",
   "metadata": {},
   "outputs": [],
   "source": [
    "import h5py\n",
    "import numpy as np\n",
    "import matplotlib.pyplot as plt\n",
    "import corner\n",
    "import astropy.cosmology as cosmo\n",
    "from astropy.cosmology import Planck18\n",
    "import astropy.units as u\n",
    "import copy\n",
    "from sklearn.mixture import GaussianMixture\n",
    "from scipy.stats import truncnorm\n",
    "import scipy.stats as ss\n",
    "\n",
    "from scipy.interpolate import RectBivariateSpline, interp1d\n",
    "\n",
    "seed = 1023123283"
   ]
  },
  {
   "cell_type": "markdown",
   "id": "4cf231cd-88a6-4071-9fa6-f160c873d938",
   "metadata": {},
   "source": [
    "# Data Generation"
   ]
  },
  {
   "cell_type": "code",
   "execution_count": 2,
   "id": "1662b8f8-c29d-461b-a7f2-14e379f8a6b2",
   "metadata": {},
   "outputs": [],
   "source": [
    "variant = 'N1e7_Fiducial_AllDCO_AIS'\n",
    "with h5py.File(\"../gmm.h5\",'r') as file:\n",
    "    nc = np.array(file['nc_'+variant+'_all'])\n",
    "    mean = np.array(file['mean_'+variant+'_all'])\n",
    "    cov = np.array(file['cov_'+variant+'_all'])\n",
    "    weight = np.array(file['weight_'+variant+'_all'])\n",
    "file.close()"
   ]
  },
  {
   "cell_type": "code",
   "execution_count": 3,
   "id": "951cb145-ea77-4fbb-bebc-3f2bf030d687",
   "metadata": {},
   "outputs": [],
   "source": [
    "gm = GaussianMixture(int(nc))\n",
    "gm.weights_ = weight\n",
    "gm.means_ = mean\n",
    "gm.covariances_ = cov"
   ]
  },
  {
   "cell_type": "code",
   "execution_count": 4,
   "id": "b5840804-61fc-453a-b25e-fae29ee54559",
   "metadata": {},
   "outputs": [],
   "source": [
    "with h5py.File('../optimal_snr_CosmicExplorerWidebandP1600143.h5', 'r') as inp:\n",
    "    ms = np.array(inp['ms'])\n",
    "    osnrs = np.array(inp['SNR'])\n",
    "\n",
    "osnr_interp = RectBivariateSpline(ms, ms, osnrs)\n",
    "\n",
    "def optimal_snr(Mcz, logq, dl):\n",
    "    m1z = Mcz*(np.exp(logq)**(-3/5))*(1+np.exp(logq))**(1/5)\n",
    "    m2z = Mcz*(np.exp(logq)**(2/5))*(1+np.exp(logq))**(1/5)\n",
    "    return osnr_interp.ev(m1z, m2z)/dl\n",
    "\n",
    "def rho(optimal_snr, Theta):\n",
    "    return optimal_snr*Theta"
   ]
  },
  {
   "cell_type": "code",
   "execution_count": 5,
   "id": "5dbe02aa-45d3-4a8b-8169-302dd0506e5d",
   "metadata": {},
   "outputs": [],
   "source": [
    "uncert = {\n",
    "    'threshold_snr': 8,\n",
    "    'Theta': 0.05,\n",
    "    'mcz': 0.03,\n",
    "    'logq': 0.64\n",
    "}\n",
    "rho_th = 8.0"
   ]
  },
  {
   "cell_type": "code",
   "execution_count": 6,
   "id": "aa326252-c51b-4300-8f17-0d20538d7d6e",
   "metadata": {},
   "outputs": [],
   "source": [
    "def mcz_add_err(Mcz, rho_obs, uncert, Nsamp):\n",
    "    Nobs = Mcz.shape[0]\n",
    "    sigma_Mcz = uncert['threshold_snr']/rho_obs*uncert['mcz']\n",
    "    Mczo = Mcz+ sigma_Mcz*np.random.randn(Nobs)\n",
    "    Mczs = np.random.normal(Mczo[:,None], sigma_Mcz[:,None], size=(Nobs,Nsamp))\n",
    "    return Mczs\n",
    "\n",
    "def logq_add_err(logq, rho_obs, uncert, Nsamp):\n",
    "    Nobs = logq.shape[0]\n",
    "    sigma_logq = uncert['threshold_snr']/rho_obs*uncert['logq']\n",
    "    bo = -logq/sigma_logq\n",
    "    logqo = truncnorm.rvs(a=-np.inf*np.ones(Nobs), b=bo, loc=logq, scale=sigma_logq, size=Nobs)\n",
    "\n",
    "    bs = []\n",
    "    for i in range(Nobs):\n",
    "        bs.append(np.repeat(-logqo[i]/sigma_logq[i], Nsamp))\n",
    "    bs = np.array(bs)\n",
    "    logqs = truncnorm.rvs(a=-np.inf*np.ones((Nobs,Nsamp)), b=bs, loc=logqo[:,None],\n",
    "                          scale=sigma_logq[:,None], size=(Nobs,Nsamp))\n",
    "    \n",
    "    logqs_reweighted = []\n",
    "    for i in range(Nobs):\n",
    "        w = ss.norm.cdf(-logqo[i]/sigma_logq[i])/ss.norm.cdf(-logqs[i]/sigma_logq[i])\n",
    "        logqs_reweighted.append(np.random.choice(logqs[i], size=Nsamp, p=w/np.sum(w), replace=True))\n",
    "    logqs_reweighted = np.array(logqs_reweighted)\n",
    "\n",
    "    return logqs_reweighted\n",
    "\n",
    "def Theta_add_err(Theta, rho_obs, uncert, Nsamp):\n",
    "    Nobs = Theta.shape[0]\n",
    "    sigma_Theta = uncert['threshold_snr']/rho_obs*uncert['Theta']\n",
    "    ao_T = -Theta/sigma_Theta\n",
    "    bo_T = (1-Theta)/sigma_Theta\n",
    "    Thetao = truncnorm.rvs(a=ao_T, b=bo_T, loc=Theta, scale=sigma_Theta, size=Nobs)\n",
    "\n",
    "    as_T = []\n",
    "    for i in range(Nobs):\n",
    "        as_T.append(np.repeat(-Thetao[i]/sigma_Theta[i], Nsamp))\n",
    "    as_T = np.array(as_T)\n",
    "    \n",
    "    bs_T = []\n",
    "    for i in range(Nobs):\n",
    "        bs_T.append(np.repeat((1-Thetao[i])/sigma_Theta[i], Nsamp))\n",
    "    bs_T = np.array(bs_T)\n",
    "    \n",
    "    Thetas = truncnorm.rvs(a=as_T, b=bs_T, loc=Thetao[:,None],\n",
    "                          scale=sigma_Theta[:,None], size=(Nobs,Nsamp))\n",
    "    \n",
    "    Thetas_reweighted = []\n",
    "    for i in range(Nobs):\n",
    "        w = (ss.norm.cdf((1-Thetao[i])/sigma_Theta[i]) - ss.norm.cdf(-Thetao[i]/sigma_Theta[i]))/(ss.norm.cdf((1-Thetas[i])/sigma_Theta[i]) - ss.norm.cdf(-Thetas[i]/sigma_Theta[i]))\n",
    "        Thetas_reweighted.append(np.random.choice(Thetas[i], size=Nsamp, p=w/np.sum(w), replace=True))\n",
    "    Thetas_reweighted = np.array(Thetas_reweighted)\n",
    "    \n",
    "    return Thetas_reweighted\n",
    "\n",
    "def rhos_samples(rho_obs, Nsamp):\n",
    "    Nobs = rho_obs.shape[0]\n",
    "    rhos = np.random.normal(rho_obs[:,None], np.ones(Nobs)[:,None], size=(Nobs,Nsamp))\n",
    "    return rhos\n",
    "\n",
    "def dl_add_err(dl, Mczs, logqs, Thetas, rhos, uncert, Nsamp):\n",
    "    Nobs = dl.shape[0]\n",
    "    dfid = 1.\n",
    "    ds = dfid*optimal_snr(Mczs, logqs, dfid)*Thetas/rhos\n",
    "    \n",
    "    return ds\n",
    "\n",
    "def reweighted_samples(Mczs, logqs, Thetas, ds):\n",
    "    Nobs = Mczs.shape[0]\n",
    "    Nsamp = Mczs.shape[1]\n",
    "    \n",
    "    Mczs_reweighted = []\n",
    "    logqs_reweighted = []\n",
    "    Thetas_reweighted = []\n",
    "    ds_reweighted = []\n",
    "    \n",
    "    for i in range(Nobs):\n",
    "        dfid = 1.\n",
    "        w = ds[i]**2/(Thetas[i]*optimal_snr(Mczs[i], logqs[i], dfid)*dfid)\n",
    "        Mczs_reweighted.append(np.random.choice(Mczs[i], size=Nsamp, p=w/np.sum(w), replace=True))\n",
    "        logqs_reweighted.append(np.random.choice(logqs[i], size=Nsamp, p=w/np.sum(w), replace=True))\n",
    "        Thetas_reweighted.append(np.random.choice(Thetas[i], size=Nsamp, p=w/np.sum(w), replace=True))\n",
    "        ds_reweighted.append(np.random.choice(ds[i], size=Nsamp, p=w/np.sum(w), replace=True))\n",
    "    Mczs_reweighted = np.array(Mczs_reweighted)\n",
    "    logqs_reweighted = np.array(logqs_reweighted)\n",
    "    Thetas_reweighted = np.array(Thetas_reweighted)\n",
    "    ds_reweighted = np.array(ds_reweighted)\n",
    "    \n",
    "    return Mczs_reweighted, logqs_reweighted, Thetas_reweighted, ds_reweighted"
   ]
  },
  {
   "cell_type": "code",
   "execution_count": 7,
   "id": "3d2f4309-647c-4a46-b0a8-dc5e90707b5d",
   "metadata": {},
   "outputs": [
    {
     "name": "stdout",
     "output_type": "stream",
     "text": [
      "Ndet= 960 among Nobs= 8000\n"
     ]
    }
   ],
   "source": [
    "with h5py.File(\"mock_data.h5\", \"w\") as file:\n",
    "    for i in [1]:\n",
    "        Nobs = 8000\n",
    "        \n",
    "        gm_samp, _ = gm.sample(Nobs)\n",
    "        Mc, logq, z = gm_samp.T\n",
    "        \n",
    "        mask = z<0\n",
    "        z[mask] = -z[mask]\n",
    "        mask1 = logq>0\n",
    "        logq[mask1] = -logq[mask1]\n",
    "        \n",
    "        Mcz = Mc*(1+z)\n",
    "        dl = Planck18.luminosity_distance(z).to(u.Gpc).value\n",
    "        \n",
    "        Theta = np.random.beta(2, 4, Nobs)\n",
    "        \n",
    "        rho_obs = rho(optimal_snr(Mcz, logq, dl), Theta) + np.random.randn(Nobs)\n",
    "        mask2 = rho_obs>rho_th\n",
    "        rho_obs = rho_obs[mask2]\n",
    "        Mcz = Mcz[mask2]\n",
    "        logq = logq[mask2]\n",
    "        dl = dl[mask2]\n",
    "        Theta = Theta[mask2]\n",
    "        Ndet = rho_obs.shape[0]\n",
    "        print(\"Ndet=\", Ndet, \"among Nobs=\", Nobs)\n",
    "        \n",
    "        Nsamp = 10000\n",
    "        \n",
    "        Mczs = mcz_add_err(Mcz, rho_obs, uncert, Nsamp)\n",
    "        logqs = logq_add_err(logq, rho_obs, uncert, Nsamp)\n",
    "        Thetas = Theta_add_err(Theta, rho_obs, uncert, Nsamp)\n",
    "        \n",
    "        rhos = rhos_samples(rho_obs, Nsamp)\n",
    "        ds = dl_add_err(dl, Mczs, logqs, Thetas, rhos, uncert, Nsamp)\n",
    "        \n",
    "        #Mczs_reweighted, logqs_reweighted, Thetas_reweighted, ds_reweighted = reweighted_samples(Mczs, logqs, Thetas, ds)\n",
    "        Mczs_reweighted, logqs_reweighted, Thetas_reweighted, ds_reweighted = Mczs, logqs, Thetas, ds\n",
    "        \n",
    "        file.create_dataset('Ndet'+str(i), data=Ndet)\n",
    "        file.create_dataset('Mcz'+str(i), data=Mcz)\n",
    "        file.create_dataset('logq'+str(i), data=logq)\n",
    "        file.create_dataset('Theta'+str(i), data=Theta)\n",
    "        file.create_dataset('dl'+str(i), data=dl)\n",
    "        file.create_dataset('Mczs'+str(i), data=Mczs_reweighted)\n",
    "        file.create_dataset('logqs'+str(i), data=logqs_reweighted)\n",
    "        file.create_dataset('Thetas'+str(i), data=Thetas_reweighted)\n",
    "        file.create_dataset('ds'+str(i), data=ds_reweighted)\n",
    "file.close()"
   ]
  },
  {
   "cell_type": "code",
   "execution_count": 8,
   "id": "b53d83cf-a4bc-4b52-a776-9e2009628da1",
   "metadata": {},
   "outputs": [
    {
     "data": {
      "text/plain": [
       "(5.130497565784596,\n",
       " -1.2195204658480702e-05,\n",
       " 0.9096135377275004,\n",
       " 20.01604365977852)"
      ]
     },
     "execution_count": 8,
     "metadata": {},
     "output_type": "execute_result"
    }
   ],
   "source": [
    "max(Mcz.flatten()), max(logq.flatten()), max(Theta.flatten()), max(dl.flatten())"
   ]
  },
  {
   "cell_type": "code",
   "execution_count": 9,
   "id": "d060cb8a-5056-4573-a1a0-c98e89f54a74",
   "metadata": {},
   "outputs": [
    {
     "data": {
      "text/plain": [
       "(1.0950128951986535,\n",
       " -0.7915646135459247,\n",
       " 0.038664635638693726,\n",
       " 0.00387182521530488)"
      ]
     },
     "execution_count": 9,
     "metadata": {},
     "output_type": "execute_result"
    }
   ],
   "source": [
    "min(Mcz.flatten()), min(logq.flatten()), min(Theta.flatten()), min(dl.flatten())"
   ]
  },
  {
   "cell_type": "code",
   "execution_count": null,
   "id": "bb671c36-a4c1-4bcd-9d11-9238b32d5b5c",
   "metadata": {},
   "outputs": [],
   "source": []
  }
 ],
 "metadata": {
  "kernelspec": {
   "display_name": "popcosmo",
   "language": "python",
   "name": "popcosmo"
  },
  "language_info": {
   "codemirror_mode": {
    "name": "ipython",
    "version": 3
   },
   "file_extension": ".py",
   "mimetype": "text/x-python",
   "name": "python",
   "nbconvert_exporter": "python",
   "pygments_lexer": "ipython3",
   "version": "3.10.14"
  }
 },
 "nbformat": 4,
 "nbformat_minor": 5
}
