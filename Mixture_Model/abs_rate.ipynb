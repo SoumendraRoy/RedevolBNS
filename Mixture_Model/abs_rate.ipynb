{
 "cells": [
  {
   "cell_type": "code",
   "execution_count": 1,
   "id": "e74be6d4-4124-4cab-aafe-8dbedbf49f90",
   "metadata": {
    "tags": []
   },
   "outputs": [],
   "source": [
    "import h5py\n",
    "import numpy as np\n",
    "from astropy.table import Table\n",
    "from astropy.cosmology import Planck18\n",
    "import astropy.units as u"
   ]
  },
  {
   "cell_type": "code",
   "execution_count": 2,
   "id": "b65b6c97-d520-4052-84c7-4a4ce4da12fc",
   "metadata": {
    "tags": []
   },
   "outputs": [],
   "source": [
    "def read_DCO(var = 'v02.35.02/N1e7_Fiducial_AllDCO_AIS/',\n",
    "             rate_key = 'Rates_mu00.025_muz-0.049_alpha-1.79_sigma01.129_sigmaz0.048_a0.017_b1.487_c4.442_d5.886_zBinned', \n",
    "             redshift_interest  = 0.2):\n",
    "    \n",
    "    ####################################\n",
    "    data_dir = '/mnt/ceph/users/lvanson/CompasOutput/' + var\n",
    "\n",
    "    # Read the rates data\n",
    "    RateFile = h5py.File(data_dir+'/CosmicIntegration/Rate_info.h5', 'r')    \n",
    "\n",
    "    # Print the keys in the simulation data\n",
    "    print(RateFile[rate_key].keys())\n",
    "\n",
    "    # Print the shape of each dataset in the simulation data\n",
    "    for key in RateFile[rate_key].keys():\n",
    "        print(np.shape(RateFile[rate_key][key][()]))\n",
    "\n",
    "    ####################################\n",
    "    # Read COMPAS simulation data\n",
    "    dataFile = h5py.File(data_dir+'/MainRun/COMPAS_Output_wWeights.h5', 'r')\n",
    "\n",
    "    # Set the key for the double compact object (DCO) data\n",
    "    DCO_key = 'BSE_Double_Compact_Objects'\n",
    "    # Set the list of keys to extract from the DCO data\n",
    "    key_list = ['SEED', 'Mass(1)','Mass(2)','mixture_weight', 'Stellar_Type(1)', 'Stellar_Type(2)', 'Merges_Hubble_Time'] #'Metallicity@ZAMS(1)', 'Immediate_RLOF>CE', 'Optimistic_CE',\n",
    "\n",
    "    # Extract DCO data to astropy table\n",
    "    DCO = Table()\n",
    "    for key in key_list:\n",
    "        DCO[key] = dataFile[DCO_key][key][()]\n",
    "    # Calculate the more massive and less massive component masses and chirp mass\n",
    "    DCO['M_moreMassive'] = np.maximum(dataFile[DCO_key]['Mass(1)'][()], dataFile[DCO_key]['Mass(2)'][()])\n",
    "    DCO['M_lessMassive'] = np.minimum(dataFile[DCO_key]['Mass(1)'][()], dataFile[DCO_key]['Mass(2)'][()])\n",
    "    \n",
    "    # Reduce the DCO table to only NSNS that merge in a Hubble time\n",
    "    DCO_merger_calculated = DCO[RateFile[rate_key]['DCOmask'][()]] #RateFile[rate_key]['DCOmask'][()] reduces BSE_Double_Compact_Objects to the same shape as RateFile\n",
    "\n",
    "    NSNS_bool = np.logical_and(DCO_merger_calculated['Stellar_Type(1)'] == 13, DCO_merger_calculated['Stellar_Type(2)'] == 13)\n",
    "    \n",
    "    print(f'You might not have always calculated all rates! sum NSNS_bool = {sum(NSNS_bool)}')\n",
    "\n",
    "    merger_bool = DCO_merger_calculated['Merges_Hubble_Time'] == True\n",
    "\n",
    "\n",
    "    NSNStable  = DCO_merger_calculated[np.logical_and(NSNS_bool, merger_bool)]\n",
    "    rates_NSNS = RateFile[rate_key]['merger_rate'][np.logical_and(NSNS_bool, merger_bool)]\n",
    "\n",
    "    # Extract redshift for the current frame\n",
    "    redshifts = RateFile[rate_key]['redshifts'][()]\n",
    "    # Get the redshift index closest to the redshift of interest\n",
    "    redshift_i = np.argmin(np.abs(redshifts - redshift_interest))\n",
    "\n",
    "    return NSNStable, rates_NSNS, redshifts, redshift_i"
   ]
  },
  {
   "cell_type": "code",
   "execution_count": 3,
   "id": "a6be38e4-0f02-4f02-9309-c3df02cc72ea",
   "metadata": {
    "tags": []
   },
   "outputs": [
    {
     "name": "stdout",
     "output_type": "stream",
     "text": [
      "<KeysViewHDF5 ['DCOmask', 'SEED', 'merger_rate', 'redshifts']>\n",
      "(2394444,)\n",
      "(1757148,)\n",
      "(1757148, 100)\n",
      "(100,)\n",
      "You might not have always calculated all rates! sum NSNS_bool = 21595\n"
     ]
    }
   ],
   "source": [
    "NSNStable, rates_NSNS, redshifts, redshift_i = read_DCO()"
   ]
  },
  {
   "cell_type": "code",
   "execution_count": 4,
   "id": "a6424dc4-b349-47d5-9833-d9d463259409",
   "metadata": {
    "tags": []
   },
   "outputs": [],
   "source": [
    "m1_inj = np.array(NSNStable['M_moreMassive'])\n",
    "m2_inj = np.array(NSNStable['M_lessMassive'])\n",
    "rate_inj = rates_NSNS\n",
    "z_inj = redshifts\n",
    "\n",
    "z_inj+=0.001"
   ]
  },
  {
   "cell_type": "markdown",
   "id": "9f9f24a6-a63c-4963-8c8a-4fc97f1fe7b5",
   "metadata": {},
   "source": [
    "# Absolute Rate"
   ]
  },
  {
   "cell_type": "code",
   "execution_count": 5,
   "id": "ed7aa10f-18d9-4aee-9184-3a22891e8477",
   "metadata": {},
   "outputs": [
    {
     "name": "stdout",
     "output_type": "stream",
     "text": [
      "[  108  3595  6897 10552 13741 17033 20525 23946 27321 30483]\n"
     ]
    }
   ],
   "source": [
    "Mc_inj = (m1_inj*m2_inj)**0.6/(m1_inj+m2_inj)**0.2\n",
    "logq_inj = np.log(m2_inj/m1_inj)\n",
    "\n",
    "# in a year\n",
    "dNdTobs_grid = rate_inj.T*(4*np.pi*Planck18.differential_comoving_volume(z_inj[:,None]).to(u.Gpc**3/u.sr).value/(1+z_inj[:,None]))\n",
    "dNdTobs = np.sum(dNdTobs_grid)\n",
    "\n",
    "# Tobs\n",
    "Tobs = np.linspace(0.1,30,10)\n",
    "Nobs_arr = np.random.poisson(dNdTobs*Tobs/(30*12))\n",
    "print(Nobs_arr)"
   ]
  },
  {
   "cell_type": "code",
   "execution_count": 6,
   "id": "6a4d281e-a7a3-4f0c-b527-bcd136d5a2ae",
   "metadata": {},
   "outputs": [],
   "source": [
    "with h5py.File(\"Nobs.h5\", \"w\") as file:\n",
    "    file.create_dataset('Nobs_arr', data=Nobs_arr)\n",
    "file.close()"
   ]
  },
  {
   "cell_type": "code",
   "execution_count": null,
   "id": "c89e0a50-fcae-48c6-a375-b4caaf214bd8",
   "metadata": {},
   "outputs": [],
   "source": []
  }
 ],
 "metadata": {
  "kernelspec": {
   "display_name": "popcosmo",
   "language": "python",
   "name": "popcosmo"
  },
  "language_info": {
   "codemirror_mode": {
    "name": "ipython",
    "version": 3
   },
   "file_extension": ".py",
   "mimetype": "text/x-python",
   "name": "python",
   "nbconvert_exporter": "python",
   "pygments_lexer": "ipython3",
   "version": "3.10.14"
  }
 },
 "nbformat": 4,
 "nbformat_minor": 5
}
