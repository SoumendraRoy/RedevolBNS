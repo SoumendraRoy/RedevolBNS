{
 "cells": [
  {
   "cell_type": "markdown",
   "id": "cb1252c4-d4e2-48d1-84b4-0a1e6936f615",
   "metadata": {},
   "source": [
    "# Preamble"
   ]
  },
  {
   "cell_type": "code",
   "execution_count": 1,
   "id": "0ab28bf2-0f4f-4289-bddb-0f7634f348f0",
   "metadata": {
    "tags": []
   },
   "outputs": [],
   "source": [
    "import h5py\n",
    "import numpy as np\n",
    "import matplotlib.pyplot as plt\n",
    "import corner\n",
    "from astropy.cosmology import Planck18\n",
    "import astropy.units as u\n",
    "from tqdm import tqdm\n",
    "from sklearn.mixture import GaussianMixture\n",
    "\n",
    "seed = 102312328"
   ]
  },
  {
   "cell_type": "markdown",
   "id": "804958d8-33e0-4ff0-866c-eacb3a47c2b4",
   "metadata": {},
   "source": [
    "# Fit GMM"
   ]
  },
  {
   "cell_type": "code",
   "execution_count": 2,
   "id": "8297fb88-a3cf-4bee-8424-9b8ee11a500f",
   "metadata": {
    "tags": []
   },
   "outputs": [],
   "source": [
    "var = 'N1e7_Fiducial_AllDCO_AIS'\n",
    "\n",
    "def GMM(var, type_gmm):\n",
    "    \n",
    "    with h5py.File('variant_pop.h5', 'r') as file:\n",
    "        Mc = np.array(file['Mc_'+var])\n",
    "        logq = np.array(file['logq_'+var])\n",
    "        z = np.array(file['z_'+var])\n",
    "    file.close()\n",
    "    \n",
    "    ns = len(Mc)//2\n",
    "    \n",
    "    if type_gmm=='all':\n",
    "        ncs = []\n",
    "        scores = []\n",
    "        means = []\n",
    "        covs =[]\n",
    "        weights = []\n",
    "\n",
    "        for nc in tqdm(range(1,20)):\n",
    "            ncs.append(nc)\n",
    "\n",
    "            gmm = GaussianMixture(nc)\n",
    "            gm = gmm.fit(np.array([Mc[ns:], logq[ns:], z[ns:]]).T)\n",
    "            scores.append(gm.score(np.array([Mc[:ns], logq[:ns], z[:ns]]).T))\n",
    "\n",
    "            means.append(gm.means_)\n",
    "            covs.append(gm.covariances_)\n",
    "            weights.append(gm.weights_)\n",
    "            \n",
    "        return ncs[np.argmax(scores)], means[np.argmax(scores)], covs[np.argmax(scores)], weights[np.argmax(scores)]\n",
    "    \n",
    "    if type_gmm=='mass':\n",
    "        ncs = []\n",
    "        scores = []\n",
    "        means = []\n",
    "        covs =[]\n",
    "        weights = []\n",
    "\n",
    "        for nc in tqdm(range(1,20)):\n",
    "            ncs.append(nc)\n",
    "\n",
    "            gmm = GaussianMixture(nc)\n",
    "            gm = gmm.fit(np.array([Mc[ns:], logq[ns:]]).T)\n",
    "            scores.append(gm.score(np.array([Mc[:ns], logq[:ns]]).T))\n",
    "\n",
    "            means.append(gm.means_)\n",
    "            covs.append(gm.covariances_)\n",
    "            weights.append(gm.weights_)\n",
    "            \n",
    "        return ncs[np.argmax(scores)], means[np.argmax(scores)], covs[np.argmax(scores)], weights[np.argmax(scores)]\n",
    "    \n",
    "    if type_gmm=='redshift':\n",
    "        ncs = []\n",
    "        scores = []\n",
    "        means = []\n",
    "        covs =[]\n",
    "        weights = []\n",
    "\n",
    "        for nc in tqdm(range(1,20)):\n",
    "            ncs.append(nc)\n",
    "\n",
    "            gmm = GaussianMixture(nc)\n",
    "            gm = gmm.fit(z[ns:].reshape(-1,1))\n",
    "            scores.append(gm.score(z[:ns].reshape(-1,1)))\n",
    "    \n",
    "            means.append(gm.means_)\n",
    "            covs.append(gm.covariances_)\n",
    "            weights.append(gm.weights_)\n",
    "            \n",
    "        return ncs[np.argmax(scores)], means[np.argmax(scores)], covs[np.argmax(scores)], weights[np.argmax(scores)]"
   ]
  },
  {
   "cell_type": "code",
   "execution_count": 3,
   "id": "8b4df076-2205-4149-8689-361a22c72c0a",
   "metadata": {
    "tags": []
   },
   "outputs": [
    {
     "name": "stdout",
     "output_type": "stream",
     "text": [
      "N1e7_Fiducial_AllDCO_AIS 0\n"
     ]
    },
    {
     "name": "stderr",
     "output_type": "stream",
     "text": [
      "100%|██████████| 19/19 [00:30<00:00,  1.63s/it]\n",
      "100%|██████████| 19/19 [00:11<00:00,  1.73it/s]\n",
      "100%|██████████| 19/19 [00:02<00:00,  6.52it/s]\n"
     ]
    },
    {
     "name": "stdout",
     "output_type": "stream",
     "text": [
      "N1e7_CEa025_AllDCO_AIS 1\n"
     ]
    },
    {
     "name": "stderr",
     "output_type": "stream",
     "text": [
      "100%|██████████| 19/19 [00:33<00:00,  1.77s/it]\n",
      "100%|██████████| 19/19 [00:12<00:00,  1.54it/s]\n",
      "100%|██████████| 19/19 [00:02<00:00,  6.40it/s]\n"
     ]
    },
    {
     "name": "stdout",
     "output_type": "stream",
     "text": [
      "N1e7_CEa05_AllDCO_AIS 2\n"
     ]
    },
    {
     "name": "stderr",
     "output_type": "stream",
     "text": [
      "100%|██████████| 19/19 [00:25<00:00,  1.35s/it]\n",
      "100%|██████████| 19/19 [00:08<00:00,  2.27it/s]\n",
      "100%|██████████| 19/19 [00:02<00:00,  6.43it/s]\n"
     ]
    },
    {
     "name": "stdout",
     "output_type": "stream",
     "text": [
      "N1e7_CEa075_AllDCO_AIS 3\n"
     ]
    },
    {
     "name": "stderr",
     "output_type": "stream",
     "text": [
      "100%|██████████| 19/19 [00:28<00:00,  1.48s/it]\n",
      "100%|██████████| 19/19 [00:13<00:00,  1.45it/s]\n",
      "100%|██████████| 19/19 [00:02<00:00,  6.53it/s]\n"
     ]
    },
    {
     "name": "stdout",
     "output_type": "stream",
     "text": [
      "N1e7_CEa2_AllDCO_AIS 4\n"
     ]
    },
    {
     "name": "stderr",
     "output_type": "stream",
     "text": [
      "100%|██████████| 19/19 [00:23<00:00,  1.25s/it]\n",
      "100%|██████████| 19/19 [00:08<00:00,  2.26it/s]\n",
      "100%|██████████| 19/19 [00:02<00:00,  6.35it/s]\n"
     ]
    },
    {
     "name": "stdout",
     "output_type": "stream",
     "text": [
      "N1e7_CEa5_AllDCO_AIS 5\n"
     ]
    },
    {
     "name": "stderr",
     "output_type": "stream",
     "text": [
      "100%|██████████| 19/19 [00:32<00:00,  1.69s/it]\n",
      "100%|██████████| 19/19 [00:08<00:00,  2.22it/s]\n",
      "100%|██████████| 19/19 [00:02<00:00,  6.66it/s]\n"
     ]
    },
    {
     "name": "stdout",
     "output_type": "stream",
     "text": [
      "N1e7_FRYER2022_AllDCO_AIS 6\n"
     ]
    },
    {
     "name": "stderr",
     "output_type": "stream",
     "text": [
      "100%|██████████| 19/19 [00:30<00:00,  1.62s/it]\n",
      "100%|██████████| 19/19 [00:07<00:00,  2.48it/s]\n",
      "100%|██████████| 19/19 [00:02<00:00,  6.37it/s]\n"
     ]
    },
    {
     "name": "stdout",
     "output_type": "stream",
     "text": [
      "N1e7_MullerMandel_AllDCO_AIS 7\n"
     ]
    },
    {
     "name": "stderr",
     "output_type": "stream",
     "text": [
      "100%|██████████| 19/19 [00:40<00:00,  2.11s/it]\n",
      "100%|██████████| 19/19 [00:13<00:00,  1.45it/s]\n",
      "100%|██████████| 19/19 [00:02<00:00,  6.50it/s]\n"
     ]
    },
    {
     "name": "stdout",
     "output_type": "stream",
     "text": [
      "N1e7_zetaHG5_AllDCO_AIS 8\n"
     ]
    },
    {
     "name": "stderr",
     "output_type": "stream",
     "text": [
      "100%|██████████| 19/19 [00:32<00:00,  1.73s/it]\n",
      "100%|██████████| 19/19 [00:11<00:00,  1.72it/s]\n",
      "100%|██████████| 19/19 [00:02<00:00,  6.54it/s]\n"
     ]
    },
    {
     "name": "stdout",
     "output_type": "stream",
     "text": [
      "N1e7_zetaHG5d5_AllDCO_AIS 9\n"
     ]
    },
    {
     "name": "stderr",
     "output_type": "stream",
     "text": [
      "100%|██████████| 19/19 [00:29<00:00,  1.54s/it]\n",
      "100%|██████████| 19/19 [00:11<00:00,  1.73it/s]\n",
      "100%|██████████| 19/19 [00:02<00:00,  6.51it/s]\n"
     ]
    },
    {
     "name": "stdout",
     "output_type": "stream",
     "text": [
      "N1e7_zetaHG6_AllDCO_AIS 10\n"
     ]
    },
    {
     "name": "stderr",
     "output_type": "stream",
     "text": [
      "100%|██████████| 19/19 [00:30<00:00,  1.61s/it]\n",
      "100%|██████████| 19/19 [00:15<00:00,  1.19it/s]\n",
      "100%|██████████| 19/19 [00:02<00:00,  6.47it/s]\n"
     ]
    },
    {
     "name": "stdout",
     "output_type": "stream",
     "text": [
      "N1e7_beta025_AllDCO_AIS 11\n"
     ]
    },
    {
     "name": "stderr",
     "output_type": "stream",
     "text": [
      "100%|██████████| 19/19 [00:30<00:00,  1.58s/it]\n",
      "100%|██████████| 19/19 [00:12<00:00,  1.49it/s]\n",
      "100%|██████████| 19/19 [00:02<00:00,  6.53it/s]\n"
     ]
    },
    {
     "name": "stdout",
     "output_type": "stream",
     "text": [
      "N1e7_beta05_AllDCO_AIS 12\n"
     ]
    },
    {
     "name": "stderr",
     "output_type": "stream",
     "text": [
      "100%|██████████| 19/19 [00:18<00:00,  1.02it/s]\n",
      "100%|██████████| 19/19 [00:07<00:00,  2.55it/s]\n",
      "100%|██████████| 19/19 [00:03<00:00,  6.23it/s]\n"
     ]
    },
    {
     "name": "stdout",
     "output_type": "stream",
     "text": [
      "N1e7_beta075_AllDCO_AIS 13\n"
     ]
    },
    {
     "name": "stderr",
     "output_type": "stream",
     "text": [
      "100%|██████████| 19/19 [00:32<00:00,  1.72s/it]\n",
      "100%|██████████| 19/19 [00:10<00:00,  1.75it/s]\n",
      "100%|██████████| 19/19 [00:03<00:00,  5.96it/s]\n"
     ]
    },
    {
     "name": "stdout",
     "output_type": "stream",
     "text": [
      "N1e7_beta1_AllDCO_AIS 14\n"
     ]
    },
    {
     "name": "stderr",
     "output_type": "stream",
     "text": [
      "100%|██████████| 19/19 [00:28<00:00,  1.48s/it]\n",
      "100%|██████████| 19/19 [00:13<00:00,  1.45it/s]\n",
      "100%|██████████| 19/19 [00:02<00:00,  6.55it/s]\n"
     ]
    },
    {
     "name": "stdout",
     "output_type": "stream",
     "text": [
      "N1e7_ECSN10_AllDCO_AIS 15\n"
     ]
    },
    {
     "name": "stderr",
     "output_type": "stream",
     "text": [
      "100%|██████████| 19/19 [00:31<00:00,  1.65s/it]\n",
      "100%|██████████| 19/19 [00:11<00:00,  1.63it/s]\n",
      "100%|██████████| 19/19 [00:02<00:00,  6.37it/s]\n"
     ]
    },
    {
     "name": "stdout",
     "output_type": "stream",
     "text": [
      "N1e7_ECSN200_AllDCO_AIS 16\n"
     ]
    },
    {
     "name": "stderr",
     "output_type": "stream",
     "text": [
      "100%|██████████| 19/19 [00:29<00:00,  1.57s/it]\n",
      "100%|██████████| 19/19 [00:10<00:00,  1.82it/s]\n",
      "100%|██████████| 19/19 [00:03<00:00,  6.23it/s]\n"
     ]
    }
   ],
   "source": [
    "variant = ['N1e7_Fiducial_AllDCO_AIS', 'N1e7_CEa025_AllDCO_AIS', 'N1e7_CEa05_AllDCO_AIS',\n",
    "           'N1e7_CEa075_AllDCO_AIS', 'N1e7_CEa2_AllDCO_AIS', 'N1e7_CEa5_AllDCO_AIS',\n",
    "           'N1e7_FRYER2022_AllDCO_AIS', 'N1e7_MullerMandel_AllDCO_AIS', 'N1e7_zetaHG5_AllDCO_AIS',\n",
    "           'N1e7_zetaHG5d5_AllDCO_AIS', 'N1e7_zetaHG6_AllDCO_AIS', 'N1e7_beta025_AllDCO_AIS',\n",
    "           'N1e7_beta05_AllDCO_AIS', 'N1e7_beta075_AllDCO_AIS', 'N1e7_beta1_AllDCO_AIS',\n",
    "           'N1e7_ECSN10_AllDCO_AIS', 'N1e7_ECSN200_AllDCO_AIS']\n",
    "\n",
    "with h5py.File(\"gmm.h5\", \"w\") as file:\n",
    "    for j in range(len(variant)):\n",
    "        var = variant[j]\n",
    "        print(var, j)\n",
    "        \n",
    "        nc, mean, cov, weight = GMM(var=var, type_gmm='all')\n",
    "        file.create_dataset('nc_'+var+'_all', data=nc)\n",
    "        file.create_dataset('mean_'+var+'_all', data=mean)\n",
    "        file.create_dataset('cov_'+var+'_all', data=cov)\n",
    "        file.create_dataset('weight_'+var+'_all', data=weight)\n",
    "        \n",
    "        nc, mean, cov, weight = GMM(var=var, type_gmm='mass')\n",
    "        file.create_dataset('nc_'+var+'_mass', data=nc)\n",
    "        file.create_dataset('mean_'+var+'_mass', data=mean)\n",
    "        file.create_dataset('cov_'+var+'_mass', data=cov)\n",
    "        file.create_dataset('weight_'+var+'_mass', data=weight)\n",
    "        \n",
    "        nc, mean, cov, weight = GMM(var=var, type_gmm='redshift')\n",
    "        file.create_dataset('nc_'+var+'_redshift', data=nc)\n",
    "        file.create_dataset('mean_'+var+'_redshift', data=mean)\n",
    "        file.create_dataset('cov_'+var+'_redshift', data=cov)\n",
    "        file.create_dataset('weight_'+var+'_redshift', data=weight)\n",
    "file.close()"
   ]
  },
  {
   "cell_type": "code",
   "execution_count": null,
   "id": "b790a881-1b94-4ff5-b53d-25846749b4b4",
   "metadata": {},
   "outputs": [],
   "source": []
  }
 ],
 "metadata": {
  "kernelspec": {
   "display_name": "popcosmo",
   "language": "python",
   "name": "popcosmo"
  },
  "language_info": {
   "codemirror_mode": {
    "name": "ipython",
    "version": 3
   },
   "file_extension": ".py",
   "mimetype": "text/x-python",
   "name": "python",
   "nbconvert_exporter": "python",
   "pygments_lexer": "ipython3",
   "version": "3.10.14"
  }
 },
 "nbformat": 4,
 "nbformat_minor": 5
}
