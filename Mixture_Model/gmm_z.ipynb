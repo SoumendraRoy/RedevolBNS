{
 "cells": [
  {
   "cell_type": "markdown",
   "id": "cb1252c4-d4e2-48d1-84b4-0a1e6936f615",
   "metadata": {},
   "source": [
    "# Preamble"
   ]
  },
  {
   "cell_type": "code",
   "execution_count": 1,
   "id": "0ab28bf2-0f4f-4289-bddb-0f7634f348f0",
   "metadata": {
    "tags": []
   },
   "outputs": [],
   "source": [
    "import h5py\n",
    "import numpy as np\n",
    "from astropy.table import Table\n",
    "import matplotlib.pyplot as plt\n",
    "import corner\n",
    "import astropy.cosmology as cosmo\n",
    "from astropy.cosmology import Planck18\n",
    "import astropy.units as u\n",
    "import bounded_3d_kde as bounded_3d_kde\n",
    "from tqdm import tqdm\n",
    "from sklearn.mixture import GaussianMixture\n",
    "\n",
    "seed = 102312328"
   ]
  },
  {
   "cell_type": "code",
   "execution_count": 2,
   "id": "85319978-3cfb-4823-af85-e5075ca84244",
   "metadata": {
    "tags": []
   },
   "outputs": [],
   "source": [
    "def read_DCO(var = 'v02.35.02/N1e7_Fiducial_AllDCO_AIS/',\n",
    "             rate_key = 'Rates_mu00.025_muz-0.049_alpha-1.79_sigma01.129_sigmaz0.048_a0.017_b1.487_c4.442_d5.886_zBinned', \n",
    "             redshift_interest  = 0.2):\n",
    "    \n",
    "    ####################################\n",
    "    data_dir = '/mnt/ceph/users/lvanson/CompasOutput/' + var\n",
    "\n",
    "    # Read the rates data\n",
    "    RateFile = h5py.File(data_dir+'/CosmicIntegration/Rate_info.h5', 'r')    \n",
    "\n",
    "    # Print the keys in the simulation data\n",
    "    print(RateFile[rate_key].keys())\n",
    "\n",
    "    # Print the shape of each dataset in the simulation data\n",
    "    for key in RateFile[rate_key].keys():\n",
    "        print(np.shape(RateFile[rate_key][key][()]))\n",
    "\n",
    "    ####################################\n",
    "    # Read COMPAS simulation data\n",
    "    dataFile = h5py.File(data_dir+'/MainRun/COMPAS_Output_wWeights.h5', 'r')\n",
    "\n",
    "    # Set the key for the double compact object (DCO) data\n",
    "    DCO_key = 'BSE_Double_Compact_Objects'\n",
    "    # Set the list of keys to extract from the DCO data\n",
    "    key_list = ['SEED', 'Mass(1)','Mass(2)','mixture_weight', 'Stellar_Type(1)', 'Stellar_Type(2)', 'Merges_Hubble_Time'] #'Metallicity@ZAMS(1)', 'Immediate_RLOF>CE', 'Optimistic_CE',\n",
    "\n",
    "    # Extract DCO data to astropy table\n",
    "    DCO = Table()\n",
    "    for key in key_list:\n",
    "        DCO[key] = dataFile[DCO_key][key][()]\n",
    "    # Calculate the more massive and less massive component masses and chirp mass\n",
    "    DCO['M_moreMassive'] = np.maximum(dataFile[DCO_key]['Mass(1)'][()], dataFile[DCO_key]['Mass(2)'][()])\n",
    "    DCO['M_lessMassive'] = np.minimum(dataFile[DCO_key]['Mass(1)'][()], dataFile[DCO_key]['Mass(2)'][()])\n",
    "    \n",
    "    # Reduce the DCO table to only NSNS that merge in a Hubble time\n",
    "    DCO_merger_calculated = DCO[RateFile[rate_key]['DCOmask'][()]] #RateFile[rate_key]['DCOmask'][()] reduces BSE_Double_Compact_Objects to the same shape as RateFile\n",
    "\n",
    "    NSNS_bool = np.logical_and(DCO_merger_calculated['Stellar_Type(1)'] == 13, DCO_merger_calculated['Stellar_Type(2)'] == 13)\n",
    "    \n",
    "    print(f'You might not have always calculated all rates! sum NSNS_bool = {sum(NSNS_bool)}')\n",
    "\n",
    "    merger_bool = DCO_merger_calculated['Merges_Hubble_Time'] == True\n",
    "\n",
    "\n",
    "    NSNStable  = DCO_merger_calculated[np.logical_and(NSNS_bool, merger_bool)]\n",
    "    rates_NSNS = RateFile[rate_key]['merger_rate'][np.logical_and(NSNS_bool, merger_bool)]\n",
    "\n",
    "    # Extract redshift for the current frame\n",
    "    redshifts = RateFile[rate_key]['redshifts'][()]\n",
    "    # Get the redshift index closest to the redshift of interest\n",
    "    redshift_i = np.argmin(np.abs(redshifts - redshift_interest))\n",
    "\n",
    "    return NSNStable, rates_NSNS, redshifts, redshift_i"
   ]
  },
  {
   "cell_type": "code",
   "execution_count": 3,
   "id": "1ba519df-b083-4e20-b2fc-3b2d3b98e760",
   "metadata": {
    "tags": []
   },
   "outputs": [
    {
     "name": "stdout",
     "output_type": "stream",
     "text": [
      "<KeysViewHDF5 ['DCOmask', 'SEED', 'merger_rate', 'redshifts']>\n",
      "(2394444,)\n",
      "(1757148,)\n",
      "(1757148, 100)\n",
      "(100,)\n",
      "You might not have always calculated all rates! sum NSNS_bool = 21595\n"
     ]
    }
   ],
   "source": [
    "NSNStable, rates_NSNS, redshifts, redshift_i = read_DCO()"
   ]
  },
  {
   "cell_type": "markdown",
   "id": "804958d8-33e0-4ff0-866c-eacb3a47c2b4",
   "metadata": {},
   "source": [
    "# Fit the Population with Bounded KDE"
   ]
  },
  {
   "cell_type": "code",
   "execution_count": 4,
   "id": "8297fb88-a3cf-4bee-8424-9b8ee11a500f",
   "metadata": {
    "tags": []
   },
   "outputs": [],
   "source": [
    "m1 = np.array(NSNStable['M_moreMassive'])\n",
    "m2 = np.array(NSNStable['M_lessMassive'])\n",
    "rate = rates_NSNS\n",
    "z = redshifts\n",
    "\n",
    "z+=0.001"
   ]
  },
  {
   "cell_type": "code",
   "execution_count": 5,
   "id": "dfed43f9-bc2e-4198-811d-c055b08de630",
   "metadata": {
    "tags": []
   },
   "outputs": [
    {
     "data": {
      "text/plain": [
       "(array([], dtype=int64),)"
      ]
     },
     "execution_count": 5,
     "metadata": {},
     "output_type": "execute_result"
    }
   ],
   "source": [
    "Mc = (m1*m2)**0.6/(m1+m2)**0.2\n",
    "logq = np.log(m2/m1)\n",
    "np.where(logq>0)"
   ]
  },
  {
   "cell_type": "code",
   "execution_count": 6,
   "id": "c83bcdd8-45cb-48b1-b05a-16a26a5f74b3",
   "metadata": {
    "tags": []
   },
   "outputs": [],
   "source": [
    "lenz = len(z)\n",
    "lenm = len(Mc)\n",
    "zs = np.repeat(z, lenm)\n",
    "Mcs = np.tile(Mc, lenz)\n",
    "logqs = np.tile(logq, lenz)\n",
    "rates = rate.flatten()"
   ]
  },
  {
   "cell_type": "code",
   "execution_count": 7,
   "id": "29c5811b-c62f-4476-80e2-c1816a7a78d6",
   "metadata": {
    "tags": []
   },
   "outputs": [],
   "source": [
    "weights = rates*(Planck18.differential_comoving_volume(zs).to(u.Gpc**3/u.sr).value/(1+zs))\n",
    "kernel = bounded_3d_kde.Bounded_3d_kde(np.vstack([Mcs, logqs, zs]).T, \n",
    "                                       low=[-np.inf,-np.inf,0.0], \n",
    "                                       high=[np.inf,0.0,np.inf],\n",
    "                                       weights=weights)"
   ]
  },
  {
   "cell_type": "code",
   "execution_count": 8,
   "id": "3ecc400b-9b2e-46f4-9793-388722234645",
   "metadata": {
    "tags": []
   },
   "outputs": [],
   "source": [
    "_, _, zinj_100000 = kernel.resample(size=100000)\n",
    "ns = len(zinj_100000)//2"
   ]
  },
  {
   "cell_type": "markdown",
   "id": "bd7f8a56-9532-4ee4-a517-03a86ab475a1",
   "metadata": {},
   "source": [
    "# Fit the KDE by GMM"
   ]
  },
  {
   "cell_type": "code",
   "execution_count": 9,
   "id": "4a6972f9-4242-476d-be3b-39244b35f2d4",
   "metadata": {
    "tags": []
   },
   "outputs": [
    {
     "name": "stderr",
     "output_type": "stream",
     "text": [
      "100%|██████████| 19/19 [00:07<00:00,  2.59it/s]\n"
     ]
    }
   ],
   "source": [
    "ncs = []\n",
    "scores = []\n",
    "means = []\n",
    "covs =[]\n",
    "weights = []\n",
    "\n",
    "for nc in tqdm(range(1,20)):\n",
    "    ncs.append(nc)\n",
    "    \n",
    "    gmm = GaussianMixture(nc)\n",
    "    gm = gmm.fit(zinj_100000[ns:].reshape(-1,1))\n",
    "    scores.append(gm.score(zinj_100000[:ns].reshape(-1,1)))\n",
    "    \n",
    "    means.append(gm.means_)\n",
    "    covs.append(gm.covariances_)\n",
    "    weights.append(gm.weights_)"
   ]
  },
  {
   "cell_type": "code",
   "execution_count": 10,
   "id": "3134121b-f66e-4273-8e52-9bec7108fe42",
   "metadata": {
    "tags": []
   },
   "outputs": [
    {
     "data": {
      "image/png": "[encoded data removed]",
      "text/plain": [
       "<Figure size 640x480 with 1 Axes>"
      ]
     },
     "metadata": {},
     "output_type": "display_data"
    }
   ],
   "source": [
    "plt.plot(ncs, scores)\n",
    "plt.xlabel('ncs')\n",
    "plt.ylabel('scores');"
   ]
  },
  {
   "cell_type": "code",
   "execution_count": 11,
   "id": "076e33a9-71cf-4b85-ba26-9a6eb14dca57",
   "metadata": {
    "tags": []
   },
   "outputs": [
    {
     "name": "stdout",
     "output_type": "stream",
     "text": [
      "18 (18, 1) (18, 1, 1) (18,)\n"
     ]
    }
   ],
   "source": [
    "i = np.argmax(scores)\n",
    "print(ncs[i], means[i].shape, covs[i].shape, weights[i].shape)"
   ]
  },
  {
   "cell_type": "code",
   "execution_count": 23,
   "id": "adae5b14-0fa3-4e2d-b978-78b13a343e38",
   "metadata": {
    "tags": []
   },
   "outputs": [],
   "source": [
    "with h5py.File(\"gmm_z.h5\", \"w\") as file:\n",
    "    file.create_dataset('nc_z', data=ncs[i])\n",
    "    file.create_dataset('mean_z', data=means[i].flatten())\n",
    "    file.create_dataset('cov_z', data=covs[i].flatten())\n",
    "    file.create_dataset('weight_z', data=weights[i])\n",
    "    file.create_dataset('zinj', data=zinj_100000)\n",
    "file.close()"
   ]
  },
  {
   "cell_type": "markdown",
   "id": "b9040bb3-8faf-48a1-b68b-0d2f942d12a5",
   "metadata": {},
   "source": [
    "# Check GMM"
   ]
  },
  {
   "cell_type": "markdown",
   "id": "3d6dff15-c6a4-42c6-9f32-d1d160719e29",
   "metadata": {},
   "source": [
    "### With Samples"
   ]
  },
  {
   "cell_type": "code",
   "execution_count": 13,
   "id": "fa4f111b-c053-46e8-8b06-8f1cf68b9a5a",
   "metadata": {
    "tags": []
   },
   "outputs": [],
   "source": [
    "nc = ncs[i]\n",
    "mean = means[i]\n",
    "cov = covs[i]\n",
    "weight = weights[i]"
   ]
  },
  {
   "cell_type": "code",
   "execution_count": 14,
   "id": "e74a934f-dda0-4953-8a03-3b34fb7b0066",
   "metadata": {
    "tags": []
   },
   "outputs": [],
   "source": [
    "gm_samp, _ = gm.sample(50000)\n",
    "zinj_gm = gm_samp.flatten()\n",
    "mask = zinj_gm<0\n",
    "zinj_gm[mask] = -zinj_gm[mask]"
   ]
  },
  {
   "cell_type": "code",
   "execution_count": 16,
   "id": "5d217bdb-6c5f-408e-8915-f58ea74431c1",
   "metadata": {
    "tags": []
   },
   "outputs": [
    {
     "data": {
      "text/plain": [
       "<matplotlib.legend.Legend at 0x1553d8d9f5e0>"
      ]
     },
     "execution_count": 16,
     "metadata": {},
     "output_type": "execute_result"
    },
    {
     "data": {
      "image/png": "[encoded data removed]",
      "text/plain": [
       "<Figure size 640x480 with 1 Axes>"
      ]
     },
     "metadata": {},
     "output_type": "display_data"
    }
   ],
   "source": [
    "_ =  plt.hist(zinj_gm, alpha=0.5, label='GMM')\n",
    "_ = plt.hist(zinj_100000[ns:], alpha=0.5, label='KDE')\n",
    "plt.legend()"
   ]
  },
  {
   "cell_type": "code",
   "execution_count": 18,
   "id": "b790a881-1b94-4ff5-b53d-25846749b4b4",
   "metadata": {},
   "outputs": [
    {
     "data": {
      "text/plain": [
       "array([0.03013452, 0.0566441 , 0.10347192, 0.04013862, 0.02930231,\n",
       "       0.06197957, 0.03070389, 0.03143631, 0.0511104 , 0.03168378,\n",
       "       0.05682318, 0.03004715, 0.19281838, 0.03406877, 0.05808101,\n",
       "       0.02929725, 0.07022278, 0.04546297])"
      ]
     },
     "execution_count": 18,
     "metadata": {},
     "output_type": "execute_result"
    }
   ],
   "source": [
    "cov.flatten()"
   ]
  },
  {
   "cell_type": "code",
   "execution_count": 21,
   "id": "0bb37169-e4e5-4428-8ab2-0e6d7d3a8bc0",
   "metadata": {
    "tags": []
   },
   "outputs": [
    {
     "data": {
      "text/plain": [
       "array([2.11237774, 5.6495279 , 8.91133847, 3.95477209, 1.22921242,\n",
       "       7.51732147, 2.99313583, 0.29481348, 5.05735148, 0.78323737,\n",
       "       6.88762431, 2.55858481, 9.73843738, 3.45987072, 6.27944701,\n",
       "       1.67186549, 8.208696  , 4.48256583])"
      ]
     },
     "execution_count": 21,
     "metadata": {},
     "output_type": "execute_result"
    }
   ],
   "source": [
    "mean.flatten()"
   ]
  },
  {
   "cell_type": "code",
   "execution_count": 22,
   "id": "aab9660b-a7cd-467b-850f-8e8b3e30a89b",
   "metadata": {
    "tags": []
   },
   "outputs": [
    {
     "data": {
      "text/plain": [
       "array([0.08572759, 0.04689076, 0.02369806, 0.06090365, 0.08478078,\n",
       "       0.03123564, 0.07578089, 0.04979661, 0.04824855, 0.07653062,\n",
       "       0.03426679, 0.08098333, 0.0179494 , 0.06715623, 0.04382288,\n",
       "       0.09032546, 0.02696759, 0.05493515])"
      ]
     },
     "execution_count": 22,
     "metadata": {},
     "output_type": "execute_result"
    }
   ],
   "source": [
    "weight"
   ]
  },
  {
   "cell_type": "code",
   "execution_count": null,
   "id": "7237531b-324f-46ae-928b-ddf58f7666f8",
   "metadata": {},
   "outputs": [],
   "source": []
  }
 ],
 "metadata": {
  "kernelspec": {
   "display_name": "popcosmo",
   "language": "python",
   "name": "popcosmo"
  },
  "language_info": {
   "codemirror_mode": {
    "name": "ipython",
    "version": 3
   },
   "file_extension": ".py",
   "mimetype": "text/x-python",
   "name": "python",
   "nbconvert_exporter": "python",
   "pygments_lexer": "ipython3",
   "version": "3.10.14"
  }
 },
 "nbformat": 4,
 "nbformat_minor": 5
}
